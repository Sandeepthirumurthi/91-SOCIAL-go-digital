{
 "metadata": {
  "language_info": {
   "codemirror_mode": {
    "name": "ipython",
    "version": 3
   },
   "file_extension": ".py",
   "mimetype": "text/x-python",
   "name": "python",
   "nbconvert_exporter": "python",
   "pygments_lexer": "ipython3",
   "version": "3.8.3-final"
  },
  "orig_nbformat": 2,
  "kernelspec": {
   "name": "python3",
   "display_name": "Python 3",
   "language": "python"
  }
 },
 "nbformat": 4,
 "nbformat_minor": 2,
 "cells": [
  {
   "cell_type": "code",
   "execution_count": null,
   "metadata": {},
   "outputs": [],
   "source": [
    "# 1\n",
    "# Write a Python program to read a file line by line and store it into a list.\n",
    "\n",
    " def file_read(file name):\n",
    "        with open(file name) as Rewrited:\n",
    "                 #Content_list is the list that contains the read lines.     \n",
    "                 content_list = Rewrited.readlines()\n",
    "                 print(content_list)\n",
    "\n",
    " file_read(\\'test.txt\\')"
   ]
  },
  {
   "cell_type": "code",
   "execution_count": 4,
   "metadata": {},
   "outputs": [
    {
     "output_type": "stream",
     "name": "stdout",
     "text": [
      "9\n"
     ]
    }
   ],
   "source": [
    "# 2\n",
    "# Write a Python program to calculate the number of days between two dates.\n",
    "\n",
    "# Sample dates : (20200702),(20200711)\n",
    "\n",
    "from datetime import date\n",
    "\n",
    "Start_date = date(2020,7,2)\n",
    "End_date  = date(2020,7,11)\n",
    "\n",
    "Diff = End_date - Start_date\n",
    "\n",
    "print(Diff.days)"
   ]
  },
  {
   "cell_type": "code",
   "execution_count": 5,
   "metadata": {},
   "outputs": [
    {
     "output_type": "stream",
     "name": "stdout",
     "text": [
      "Original String:\n{'4': 5, '6': 7, '1': 3, '2': 4}\n\n JSON Data: \n{\n    \"1\": 3,\n    \"2\": 4,\n    \"4\": 5,\n    \"6\": 7\n}\n"
     ]
    }
   ],
   "source": [
    "# 3\n",
    "# Write a Python program to convert the Python dictionary object (sort by key) to\n",
    "# JSON data. Print the object members with indent level 4.\n",
    "\n",
    "import json\n",
    "\n",
    "Data = {'4': 5, '6': 7, '1': 3, '2': 4}\n",
    "print(\"Original String:\")\n",
    "print(Data)\n",
    "print(\"\\n JSON Data: \")\n",
    "print(json.dumps(Data, sort_keys=True, indent=4))"
   ]
  },
  {
   "cell_type": "code",
   "execution_count": 15,
   "metadata": {},
   "outputs": [
    {
     "output_type": "stream",
     "name": "stdout",
     "text": [
      "Original list of dictionaries :\n[{'make': 'Nokia', 'model': 216, 'color': 'Black'}, {'make': 'Mi Max', 'model': '2', 'color': 'Gold'}, {'make': 'Samsung', 'model': 7, 'color': 'Blue'}]\n\nSorting the List of dictionaries :\n[{'make': 'Nokia', 'model': 216, 'color': 'Black'}, {'make': 'Samsung', 'model': 7, 'color': 'Blue'}, {'make': 'Mi Max', 'model': '2', 'color': 'Gold'}]\n"
     ]
    }
   ],
   "source": [
    "# 4 \n",
    "# Write a Python program to sort a list of dictionaries using Lambda.\n",
    "\n",
    "# Original list of dictionaries :\n",
    "# [{'make': 'Nokia', 'model': 216, 'color': 'Black'}, {'make': 'Mi Max', 'model': '2',\n",
    "# 'color': 'Gold'}, {'make': 'Samsung', 'model': 7, 'color': 'Blue'}]\n",
    "# Sorting the List of dictionaries :\n",
    "# [{'make': 'Nokia', 'model': 216, 'color': 'Black'}, {'make': 'Samsung', 'model': 7,\n",
    "# 'color': 'Blue'}, {'make': 'Mi Max', 'model': '2', 'color': 'Gold'}]\n",
    "\n",
    "# Program \n",
    "\n",
    "models = [{'make':'Nokia', 'model':216, 'color':'Black'}, {'make':'Mi Max', 'model':'2', 'color':'Gold'}, {'make':'Samsung', 'model': 7, 'color':'Blue'}]\n",
    "\n",
    "print(\"Original list of dictionaries :\")\n",
    "\n",
    "print(models)\n",
    "\n",
    "sorted_models = sorted(models, key = lambda x: x['color'])\n",
    "\n",
    "print(\"\\nSorting the List of dictionaries :\")\n",
    "\n",
    "print(sorted_models)"
   ]
  },
  {
   "cell_type": "code",
   "execution_count": null,
   "metadata": {},
   "outputs": [],
   "source": [
    "# 5\n",
    "# Write a Python program that takes a text file as input and returns the number of\n",
    "# words of a given text file.\n",
    "# Note: Some words can be separated by a comma with no space.\n",
    "\n",
    "def count_words(file):\n",
    "   with open(file):\n",
    "       data = file.read()\n",
    "       data.replace(\",\", \" \")\n",
    "       return len(data.split(\" \"))\n",
    "print(count_words(\"words.txt\"))"
   ]
  },
  {
   "cell_type": "code",
   "execution_count": 16,
   "metadata": {},
   "outputs": [
    {
     "output_type": "stream",
     "name": "stdout",
     "text": [
      "Original array:\nA1: array('i', [1, 2, 3, 4, 5, 6])\nArray of bytes: b'010000000200000003000000040000000500000006000000'\n"
     ]
    }
   ],
   "source": [
    "# 6 \n",
    "# Write a Python program to convert an array to an array of machine values and\n",
    "# return the bytes representation.\n",
    "# Expected Output:\n",
    "# Original array:\n",
    "# A1: array('i', [1, 2, 3, 4, 5, 6])\n",
    "# Array of bytes: b'010000000200000003000000040000000500000006000000'\n",
    "\n",
    "import array\n",
    "import binascii\n",
    "a = array.array('i', [1,2,3,4,5,6])\n",
    "print(\"Original array:\")\n",
    "print('A1:', a)\n",
    "bytes_array = a.tobytes()\n",
    "print('Array of bytes:', binascii.hexlify(bytes_array))"
   ]
  },
  {
   "cell_type": "code",
   "execution_count": 17,
   "metadata": {},
   "outputs": [
    {
     "output_type": "stream",
     "name": "stderr",
     "text": [
      "2021-01-18 09:08:49,255 - simple_example - ERROR - error message\n",
      "2021-01-18 09:08:49,257 - simple_example - CRITICAL - critical message\n"
     ]
    }
   ],
   "source": [
    "# 7\n",
    "# Write a script which can read the files line by line with .log ext and print it into a\n",
    "# file , while printing the data from the suffix with present date and time of the system.\n",
    "# (example of file path are /home/Desktop/demo/test.log,\n",
    "# /home/Desktop/demo/test-1.log, /home/Desktop/demo/test2.log, .....)\n",
    "# (sample data inside the .log files\n",
    "# 03-17 16:13:38.811 1702 2395 D WindowManager:\n",
    "# printFreezingDisplayLogsopening app wtoken = AppWindowToken{9f4ef63\n",
    "# token=Token{a64f992 ActivityRecord{de9231d u0\n",
    "# com.tencent.qt.qtl/.activity.info.NewsDetailXmlActivity t761}}}, allDrawn= false,\n",
    "# startingDisplayed = false, startingMoved = false, isRelaunching = false\n",
    "# 03-17 16:13:38.819 1702 8671 D PowerManagerService: acquire lock=233570404,\n",
    "# flags=0x1, tag=\"View Lock\", name=com.android.systemui, ws=null, uid=10037,\n",
    "# pid=2227\n",
    "# 03-17 16:13:38.820 1702 8671 D PowerManagerService:\n",
    "# ready=true,policy=3,wakefulness=1,wksummary=0x23,uasummary=0x1,bootcomplete\n",
    "# d=true,boostinprogress=false,waitmodeenable=false,mode=false,manual=38,auto=-1,a\n",
    "# dj=0.0userId=0\n",
    "# 03-17 16:13:38.839 1702 2113 V WindowManager: Skipping\n",
    "# AppWindowToken{df0798e token=Token{78af589 ActivityRecord{3b04890 u0\n",
    "# com.tencent.qt.qtl/com.tencent.video.player.activity.PlayerActivity t761}}} -- going to\n",
    "# hide\n",
    "# 03-17 16:13:38.859 2227 2227 D TextView: visible is system.time.showampm\n",
    "# 03-17 16:13:38.861 2227 2227 D TextView: mVisiblity.getValue is false\n",
    "# 03-17 16:13:38.869 2227 2227 D TextView: visible is system.charge.show\n",
    "# 03-17 16:13:38.887 2227 2227 D TextView: visible is system.ownerinfo.show\n",
    "# )\n",
    "\n",
    "import logging\n",
    "\n",
    "logger = logging.getLogger('simple_example')\n",
    "logger.setLevel(logging.DEBUG)\n",
    "\n",
    "# create file handler which logs even debug messages\n",
    "\n",
    "fh = logging.FileHandler('spam.log')\n",
    "fh.setLevel(logging.DEBUG)\n",
    "\n",
    "# create console handler with a higher log level\n",
    "\n",
    "ch = logging.StreamHandler()\n",
    "ch.setLevel(logging.ERROR)\n",
    "\n",
    "# create formatter and add it to the handlers\n",
    "\n",
    "formatter = logging.Formatter('%(asctime)s - %(name)s - %(levelname)s - %(message)s')\n",
    "ch.setFormatter(formatter)\n",
    "fh.setFormatter(formatter)\n",
    "\n",
    "# add the handlers to logger\n",
    "\n",
    "logger.addHandler(ch)\n",
    "logger.addHandler(fh)\n",
    "\n",
    "# 'application' code\n",
    "\n",
    "logger.debug('debug message')\n",
    "logger.info('info message')\n",
    "logger.warning('warn message')\n",
    "logger.error('error message')\n",
    "logger.critical('critical message')"
   ]
  },
  {
   "cell_type": "code",
   "execution_count": null,
   "metadata": {},
   "outputs": [],
   "source": [
    "# 8\n",
    "# Program to Generate random logs and write in a file , once the file size reaches 2Mb\n",
    "# open new file and continue writing\n",
    "\n",
    "import glob\n",
    "import logging\n",
    "import logging.handlers\n",
    "\n",
    "LOG_FILENAME = 'file_example.out'\n",
    "\n",
    "# Set up a specific logger with our desired output level\n",
    "\n",
    "my_logger = logging.getLogger('MyLogger')\n",
    "my_logger.setLevel(logging.DEBUG)\n",
    "\n",
    "# Add the log message handler to the logger\n",
    "\n",
    "handler = logging.handlers.RotatingFileHandler(\n",
    "              LOG_FILENAME, maxBytes=20, backupCount=5)\n",
    "\n",
    "my_logger.addHandler(handler)\n",
    "\n",
    "# Log some messages\n",
    "\n",
    "for i in range(20):\n",
    "    my_logger.debug('i = %d' % i)\n",
    "\n",
    "# See what files are created\n",
    "\n",
    "logfiles = glob.glob('%s*' % LOG_FILENAME)\n",
    "\n",
    "for filename in logfiles:\n",
    "    print(filename)"
   ]
  },
  {
   "cell_type": "code",
   "execution_count": 18,
   "metadata": {},
   "outputs": [
    {
     "output_type": "stream",
     "name": "stdout",
     "text": [
      "192.168.0.1 inactive\n192.168.0.2 inactive\n192.168.0.3 inactive\n192.168.0.4 inactive\n192.168.0.5 inactive\n192.168.0.6 inactive\n192.168.0.7 inactive\n192.168.0.8 inactive\n192.168.0.9 inactive\n"
     ]
    }
   ],
   "source": [
    "# 9\n",
    "# Script to ping and check whether any given IPs are active, also whether given set of\n",
    "# software are installed in the existing system ( like java, kubectl, aws etc)\n",
    "\n",
    "import subprocess\n",
    "import os\n",
    "with open(os.devnull, \"wb\") as limbo:\n",
    "        for n in range(1, 10):\n",
    "                ip=\"192.168.0.{0}\".format(n)\n",
    "                result=subprocess.Popen([\"ping\", \"-c\", \"1\", \"-n\", \"-W\", \"2\", ip],\n",
    "                        stdout=limbo, stderr=limbo).wait()\n",
    "                if result:\n",
    "                        print (ip, \"inactive\")\n",
    "                else:\n",
    "                        print (ip, \"active\")"
   ]
  }
 ]
}